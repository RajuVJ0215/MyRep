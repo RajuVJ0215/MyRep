{
 "cells": [
  {
   "cell_type": "markdown",
   "id": "1b4d82dd",
   "metadata": {},
   "source": [
    "1.Why are functions advantageous to have in your programs?\n",
    "Functions reduce the need for duplicate code. \n",
    "2.When does the code in a function run: when it&#39;s specified or when it&#39;s called?\n",
    "The code in a function executes when the function is called, not when the function is defined.\n",
    "3.What statement creates a function?\n",
    "The def statement defines (that is, creates) a function.\n",
    "4.What is the difference between a function and a function call?\n",
    "function consists of the def statement and the code in its def clause.\n",
    "5.How many global scopes are there in a Python program? How many local scopes?\n",
    "There is one global scope, and a local scope is created whenever a function is called.\n",
    "6.What happens to variables in a local scope when the function call returns?\n",
    "When a function returns, the local scope is destroyed, and all the variables in it are forgotten.\n",
    "7.What is the concept of a return value? Is it possible to have a return value in an expression?\n",
    "return value is the value that a function call evaluates to. Like any value, a return value can be used as part of an expression.\n",
    "8.If a function does not have a return statement, what is the return value of a call to that function?\n",
    "If there is no return statement for a function, its return value is None.\n",
    "9.How do you make a function variable refer to the global variable?\n",
    "global statement will force a variable in a function to refer to the global variable.\n",
    "10.What is the data type of None?\n",
    "The data type of None is NoneType.\n",
    "11.What does the sentence import areallyourpetsnamederic do?\n",
    "That import statement imports a module named areallyourpetsnamederic. \n",
    "12.If you had a bacon() feature in a spam module, what would you call it after importing spam?\n",
    "spam.bacon()\n",
    "13.What can you do to save a programme from crashing if it encounters an error?\n",
    "Place the line of code that might cause an error in a try clause.\n",
    "14.What is the purpose of the try clause? What is the purpose of the except clause?\n",
    "The code that could potentially cause an error goes in the try clause"
   ]
  }
 ],
 "metadata": {
  "kernelspec": {
   "display_name": "Python 3 (ipykernel)",
   "language": "python",
   "name": "python3"
  },
  "language_info": {
   "codemirror_mode": {
    "name": "ipython",
    "version": 3
   },
   "file_extension": ".py",
   "mimetype": "text/x-python",
   "name": "python",
   "nbconvert_exporter": "python",
   "pygments_lexer": "ipython3",
   "version": "3.9.7"
  }
 },
 "nbformat": 4,
 "nbformat_minor": 5
}
